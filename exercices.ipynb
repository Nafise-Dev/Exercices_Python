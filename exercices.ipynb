{
  "nbformat": 4,
  "nbformat_minor": 0,
  "metadata": {
    "colab": {
      "provenance": [],
      "collapsed_sections": [],
      "authorship_tag": "ABX9TyMZu/WuM7j3nx9s4WD7rgmW",
      "include_colab_link": true
    },
    "kernelspec": {
      "name": "python3",
      "display_name": "Python 3"
    },
    "language_info": {
      "name": "python"
    }
  },
  "cells": [
    {
      "cell_type": "markdown",
      "metadata": {
        "id": "view-in-github",
        "colab_type": "text"
      },
      "source": [
        "<a href=\"https://colab.research.google.com/github/Nafise-Dev/Exercices_Python/blob/main/exercices.ipynb\" target=\"_parent\"><img src=\"https://colab.research.google.com/assets/colab-badge.svg\" alt=\"Open In Colab\"/></a>"
      ]
    },
    {
      "cell_type": "markdown",
      "source": [
        "Exo 2.1"
      ],
      "metadata": {
        "id": "6Pjy7lBb2mMR"
      }
    },
    {
      "cell_type": "code",
      "source": [
        "nombre1 = input(\"premier nombre :\")\n",
        "nombre2 = input(\"deuxième nombre :\")\n",
        "\n",
        "total =int(nombre1) *int(nombre2)\n",
        "\n",
        "if total > 0:\n",
        "    print(\"résultat positif: \"+str(total))\n",
        "else:\n",
        "    print(\"resultat négatif: \"+str(total))"
      ],
      "metadata": {
        "colab": {
          "base_uri": "https://localhost:8080/"
        },
        "id": "eiRCMLWj26M9",
        "outputId": "b6c1ca6b-8333-4379-d02a-4b3faa29bbdc"
      },
      "execution_count": null,
      "outputs": [
        {
          "output_type": "stream",
          "name": "stdout",
          "text": [
            "premier nombre :2\n",
            "deuxième nombre :4\n",
            "résultat positif: 8\n"
          ]
        }
      ]
    },
    {
      "cell_type": "markdown",
      "source": [
        "Exo 2.2"
      ],
      "metadata": {
        "id": "mF-cndQU3FeT"
      }
    },
    {
      "cell_type": "code",
      "source": [
        "nombre = int(input(\"Rentrez un nombre \\t\"))\n",
        "\n",
        "result = 0\n",
        "for i in range(1,var+1):\n",
        "    result = result + i\n",
        "    print(i)\n",
        "print(result)"
      ],
      "metadata": {
        "colab": {
          "base_uri": "https://localhost:8080/"
        },
        "id": "o6chBRrA3HzA",
        "outputId": "67e21661-4d61-48bb-9299-847def9a6259"
      },
      "execution_count": null,
      "outputs": [
        {
          "output_type": "stream",
          "name": "stdout",
          "text": [
            "Rentrez un nombre \t5\n",
            "1\n",
            "2\n",
            "3\n",
            "4\n",
            "5\n",
            "15\n"
          ]
        }
      ]
    },
    {
      "cell_type": "markdown",
      "source": [
        "Exo 2.3"
      ],
      "metadata": {
        "id": "qQHCezie47sd"
      }
    },
    {
      "cell_type": "code",
      "source": [
        "tab = [1,2,3,4,5]\n",
        "sum(tab)"
      ],
      "metadata": {
        "colab": {
          "base_uri": "https://localhost:8080/"
        },
        "id": "2_yQ0yQW49BS",
        "outputId": "f30dfc61-4498-4647-df04-84e545ef1e0e"
      },
      "execution_count": null,
      "outputs": [
        {
          "output_type": "execute_result",
          "data": {
            "text/plain": [
              "15"
            ]
          },
          "metadata": {},
          "execution_count": 8
        }
      ]
    },
    {
      "cell_type": "markdown",
      "source": [
        "Exo 2.4"
      ],
      "metadata": {
        "id": "enPAWJvy4_lH"
      }
    },
    {
      "cell_type": "code",
      "source": [
        "tab1 = [9, 12, 3, 7]\n",
        "tab2 = [2, 1, 12, 8]\n",
        "n = 0\n",
        "for i in range(len(tab1)):\n",
        "    for j in range(len(tab2)):\n",
        "        n = n + tab1[i] * tab2[j]\n",
        "\n",
        "print(n)"
      ],
      "metadata": {
        "colab": {
          "base_uri": "https://localhost:8080/"
        },
        "id": "Yr2RISnW5D99",
        "outputId": "91923e6c-7479-40c0-e340-81273dc0396a"
      },
      "execution_count": null,
      "outputs": [
        {
          "output_type": "stream",
          "name": "stdout",
          "text": [
            "713\n"
          ]
        }
      ]
    },
    {
      "cell_type": "markdown",
      "source": [
        "Exo 2.5"
      ],
      "metadata": {
        "id": "Gxvolp2z5NFn"
      }
    },
    {
      "cell_type": "code",
      "source": [
        "tab = [99,55,100,62]\n",
        "\n",
        "num = 0\n",
        "\n",
        "for y,i in enumerate(tab):\n",
        "    if num < i:\n",
        "        num = i\n",
        "        position = y + 1\n",
        "        \n",
        "print(\"valeur : \"+str(num)+\", indice : \"+str(position))"
      ],
      "metadata": {
        "colab": {
          "base_uri": "https://localhost:8080/"
        },
        "id": "Pa-ftVwj5QZI",
        "outputId": "0e0cdd71-ce43-46b6-b016-247661cdd090"
      },
      "execution_count": null,
      "outputs": [
        {
          "output_type": "stream",
          "name": "stdout",
          "text": [
            "valeur : 100, indice : 3\n"
          ]
        }
      ]
    },
    {
      "cell_type": "markdown",
      "source": [
        "Exo 2.6\n"
      ],
      "metadata": {
        "id": "j1ctW9j85X4W"
      }
    },
    {
      "cell_type": "code",
      "source": [
        "n = int(input(\"Taille du tableau ? : \"))\n",
        "tab = []\n",
        "\n",
        "for i in range(n):\n",
        "    num = int(input())\n",
        "    tab.append(num)\n",
        "\n",
        "somme = 0\n",
        "\n",
        "for j in tab:\n",
        "    somme += j\n",
        "\n",
        "moyenne = somme / n\n",
        "\n",
        "res = []\n",
        "\n",
        "for k in tab:\n",
        "    if k > moyenne:\n",
        "        res.append(k)\n",
        "\n",
        "print(res)"
      ],
      "metadata": {
        "colab": {
          "base_uri": "https://localhost:8080/"
        },
        "id": "TOOpKBVo5lIX",
        "outputId": "aa1a4b57-045e-4cb7-8022-af1098eb0f80"
      },
      "execution_count": null,
      "outputs": [
        {
          "output_type": "stream",
          "name": "stdout",
          "text": [
            "Taille du tableau ? : 3\n",
            "99\n",
            "3\n",
            "1\n",
            "[99]\n"
          ]
        }
      ]
    },
    {
      "cell_type": "markdown",
      "source": [
        "Exo 2.7"
      ],
      "metadata": {
        "id": "zsVK6L1J5zLD"
      }
    },
    {
      "cell_type": "code",
      "source": [
        "v1 = [5, 8]\n",
        "v2 = [3, 6]\n",
        "\n",
        "res = []\n",
        "\n",
        "for i in range(2):\n",
        "    num = v1[i] * v2[i]\n",
        "    res.append(num)\n",
        "\n",
        "print(res)"
      ],
      "metadata": {
        "colab": {
          "base_uri": "https://localhost:8080/"
        },
        "id": "2v4tOn5x52NK",
        "outputId": "69058e9a-a47e-4da6-c270-69925c56cfe8"
      },
      "execution_count": null,
      "outputs": [
        {
          "output_type": "stream",
          "name": "stdout",
          "text": [
            "[15, 48]\n"
          ]
        }
      ]
    },
    {
      "cell_type": "markdown",
      "source": [
        "Exo 2.8"
      ],
      "metadata": {
        "id": "Y4IUJRwy56yw"
      }
    },
    {
      "cell_type": "code",
      "source": [
        "nums = [25,13,6,17,9]\n",
        "        \n",
        "print(nums)\n",
        "nums.sort()\n",
        "print(nums)"
      ],
      "metadata": {
        "colab": {
          "base_uri": "https://localhost:8080/"
        },
        "id": "cA2c872858bi",
        "outputId": "6141c621-8b47-4bf2-c126-46e24db38f29"
      },
      "execution_count": null,
      "outputs": [
        {
          "output_type": "stream",
          "name": "stdout",
          "text": [
            "[25, 13, 6, 17, 9]\n",
            "[6, 9, 13, 17, 25]\n"
          ]
        }
      ]
    },
    {
      "cell_type": "markdown",
      "source": [
        "Exo 2.9"
      ],
      "metadata": {
        "id": "lXwv1q0v6bNX"
      }
    },
    {
      "cell_type": "code",
      "source": [
        "n = int(input(\"Entrez un nombre : \"))\n",
        "fact = 1\n",
        "  \n",
        "for i in range(1,n+1):\n",
        "    fact = fact * i\n",
        "      \n",
        "print(\"La  factorielle de \" + str(n) + \" est = \"+ str(fact))"
      ],
      "metadata": {
        "colab": {
          "base_uri": "https://localhost:8080/"
        },
        "id": "i9O3DZ_N6cc-",
        "outputId": "8757ae87-ab3c-4045-e59c-8bb968030d95"
      },
      "execution_count": null,
      "outputs": [
        {
          "output_type": "stream",
          "name": "stdout",
          "text": [
            "Entrez un nombre : 4\n",
            "La  factorielle de 4 est = 24\n"
          ]
        }
      ]
    }
  ]
}