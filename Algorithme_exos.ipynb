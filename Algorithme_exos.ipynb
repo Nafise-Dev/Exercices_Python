{
  "nbformat": 4,
  "nbformat_minor": 0,
  "metadata": {
    "colab": {
      "provenance": [],
      "collapsed_sections": [],
      "authorship_tag": "ABX9TyOGyMdVIjBUJg/mLhdCORbz",
      "include_colab_link": true
    },
    "kernelspec": {
      "name": "python3",
      "display_name": "Python 3"
    },
    "language_info": {
      "name": "python"
    }
  },
  "cells": [
    {
      "cell_type": "markdown",
      "metadata": {
        "id": "view-in-github",
        "colab_type": "text"
      },
      "source": [
        "<a href=\"https://colab.research.google.com/github/Nafise-Dev/Exercices_Python/blob/main/Algorithme_exos.ipynb\" target=\"_parent\"><img src=\"https://colab.research.google.com/assets/colab-badge.svg\" alt=\"Open In Colab\"/></a>"
      ]
    },
    {
      "cell_type": "code",
      "execution_count": null,
      "metadata": {
        "id": "ACTEMn33Wg7j"
      },
      "outputs": [],
      "source": [
        "Distance de levenshtein"
      ]
    },
    {
      "cell_type": "code",
      "source": [
        "str1 = \"radio\"\n",
        "str2 = \"radeon\"\n",
        "d=[ [x for x in range(len(str1)+1)] for y in range(len(str2)+1)]\n",
        "\n",
        "for i in range(1,len(str2)+1):\n",
        "  d[i][0] = d[i-1][0]+1\n",
        "\n",
        "for j in range(1,len(str2)+1):\n",
        "  for k in range(1,len(str1)+1):\n",
        "    if str2[j-1]==str1[k-1]:\n",
        "      d[j][k]=d[j-1][k-1]\n",
        "    else:\n",
        "      d[j][k] =1+min(d[j-1][k],d[j-1][k-1],d[j][k-1]) \n",
        "\n",
        "print(d[-1][-1])"
      ],
      "metadata": {
        "colab": {
          "base_uri": "https://localhost:8080/"
        },
        "id": "TEs00KZdWn6c",
        "outputId": "ef9be1c1-6390-4db4-acb2-4946b77230c1"
      },
      "execution_count": 13,
      "outputs": [
        {
          "output_type": "stream",
          "name": "stdout",
          "text": [
            "2\n"
          ]
        }
      ]
    },
    {
      "cell_type": "markdown",
      "source": [
        "Somme de suites non adjacents"
      ],
      "metadata": {
        "id": "1SVkZ5Q9jvgX"
      }
    },
    {
      "cell_type": "code",
      "source": [
        "tab1=[7,10,12,7,9,14]\n",
        "\n",
        "def Somme_Max(tab1):\n",
        "  tab2=[]\n",
        "  tab2.append(tab1[0])\n",
        "  if tab2[0]<tab1[1]:\n",
        "    tab2.append(tab1[1])\n",
        "  else :\n",
        "    tab2[1]=tab2[0]\n",
        "\n",
        "  for i in range(2,len(tab1)):\n",
        "    if tab1[i]+tab2[i-2]> tab2[i-1]:\n",
        "        tab2.append(tab1[i]+tab2[i-2])\n",
        "\n",
        "    else:\n",
        "      tab2.append(tab2[i-1])\n",
        "  return(tab2)\n",
        "print(\"Le tableau : \" +str(Somme_Max(tab1)))\n",
        "print(\"Le max est :\"+str(max(Somme_Max(tab1))))"
      ],
      "metadata": {
        "colab": {
          "base_uri": "https://localhost:8080/"
        },
        "id": "9ind5Sgbjwh1",
        "outputId": "abe9eeb8-c057-4292-cb65-45136c944965"
      },
      "execution_count": 12,
      "outputs": [
        {
          "output_type": "stream",
          "name": "stdout",
          "text": [
            "Le tableau : [7, 10, 19, 19, 28, 33]\n",
            "Le max est :33\n"
          ]
        }
      ]
    }
  ]
}